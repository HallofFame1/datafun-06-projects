{
    "metadata": {
        "kernelspec": {
            "name": "python3",
            "display_name": "Python 3 (ipykernel)",
            "language": "python"
        },
        "language_info": {
            "name": "python",
            "version": "3.10.7",
            "mimetype": "text/x-python",
            "codemirror_mode": {
                "name": "ipython",
                "version": 3
            },
            "pygments_lexer": "ipython3",
            "nbconvert_exporter": "python",
            "file_extension": ".py"
        }
    },
    "nbformat_minor": 2,
    "nbformat": 4,
    "cells": [
        {
            "cell_type": "markdown",
            "source": [
                "# Helen Hammond's Module 4 Project\n",
                "\n",
                "### Date: Feb 18 2023\n",
                "\n",
                "# Task 3 - Exploratory Data Project"
            ],
            "metadata": {
                "azdata_cell_guid": "d3513052-3d9d-4d96-b8fa-a065a4c5abb8"
            },
            "attachments": {}
        },
        {
            "cell_type": "markdown",
            "source": [
                "1.\tUse everything you've learned to conduct a unique data exploration project using some information related to your domain. \n",
                "2.\tTell a story with data (do a web search to learn more).\n",
                "3.\tUse this project to feature all of the key skills learned - creating a professional notebook, writing a good README.md (do a web search). \n",
                "4.\tInclude challenging Python programming aspects - find a reason to use filter(), map(), and list comprehensions.\n",
                "5.\tHave fun and make it unique.\n",
                ""
            ],
            "metadata": {
                "azdata_cell_guid": "c51852a3-b054-4852-8890-4dbe5e8ccfc4"
            },
            "attachments": {}
        },
        {
            "cell_type": "markdown",
            "source": [
                "## Allegheny County Employee Salaries"
            ],
            "metadata": {
                "language": "sql",
                "azdata_cell_guid": "415f9326-8801-44bc-addc-751aba262308"
            },
            "attachments": {}
        },
        {
            "cell_type": "markdown",
            "source": [
                "We shall be looking at annual salary, regular pay, incentive pay, and gross pay for employees under the County Executive and independently elected County officials for the years 2016 to the present"
            ],
            "metadata": {
                "language": "sql",
                "azdata_cell_guid": "13ff4365-7460-470e-a015-c4562b5d82a2"
            },
            "attachments": {}
        },
        {
            "cell_type": "markdown",
            "source": [
                "## 1 - Read"
            ],
            "metadata": {
                "language": "sql",
                "azdata_cell_guid": "014e6980-677b-435d-98bd-cf56d32ac59c"
            },
            "attachments": {}
        },
        {
            "cell_type": "markdown",
            "source": [
                "Import pandas library for data analysis"
            ],
            "metadata": {
                "language": "python",
                "azdata_cell_guid": "3982e6b6-4730-4298-af36-30318837eb1e"
            },
            "attachments": {}
        },
        {
            "cell_type": "code",
            "source": [
                "import pandas as pd"
            ],
            "metadata": {
                "azdata_cell_guid": "73fc659c-0bad-4cc9-b5e1-bcad3f407f66",
                "language": "python"
            },
            "outputs": [],
            "execution_count": 1341
        },
        {
            "cell_type": "markdown",
            "source": [
                "Read in the CSV file"
            ],
            "metadata": {
                "language": "python",
                "azdata_cell_guid": "2b720e1b-84d4-4075-a31d-ee4d0279959e"
            },
            "attachments": {}
        },
        {
            "cell_type": "code",
            "source": [
                "salaries_df = pd.DataFrame(pd.read_csv('allegheny_county_employees_salaries.csv', skipinitialspace = True))"
            ],
            "metadata": {
                "language": "python",
                "azdata_cell_guid": "a0f41deb-bc80-4ef8-9c8b-2aa8e61b4667"
            },
            "outputs": [],
            "execution_count": 1342
        },
        {
            "cell_type": "markdown",
            "source": [
                "Remove spaces in the column names"
            ],
            "metadata": {
                "language": "python",
                "azdata_cell_guid": "f2e06b00-9837-494e-b236-a3d50f69c3f7"
            },
            "attachments": {}
        },
        {
            "cell_type": "code",
            "source": [
                "salaries_df.columns = salaries_df.columns.str.replace(' ', '')"
            ],
            "metadata": {
                "language": "python",
                "azdata_cell_guid": "4b11d5c9-7ce7-4799-b7d3-4675ba2abe15"
            },
            "outputs": [],
            "execution_count": 1343
        },
        {
            "cell_type": "markdown",
            "source": [
                "Remove commas and dashes in the data"
            ],
            "metadata": {
                "language": "python",
                "azdata_cell_guid": "d36a12e8-cd42-400f-adf6-7e4e8a1fdafb"
            },
            "attachments": {}
        },
        {
            "cell_type": "code",
            "source": [
                "salaries_df.replace(',','', regex=True, inplace=True)\n",
                "salaries_df.replace('-','', regex=True, inplace=True)"
            ],
            "metadata": {
                "language": "python",
                "azdata_cell_guid": "0aaff43e-f9be-4946-9f88-09296dea340c"
            },
            "outputs": [],
            "execution_count": 1344
        },
        {
            "cell_type": "markdown",
            "source": [
                "Display the column names"
            ],
            "metadata": {
                "language": "python",
                "azdata_cell_guid": "4d18e241-b590-4802-840a-5f5bd620f8f3"
            },
            "attachments": {}
        },
        {
            "cell_type": "code",
            "source": [
                "salaries_df.columns"
            ],
            "metadata": {
                "language": "python",
                "azdata_cell_guid": "9477f234-cf1e-42fd-80a8-9014a9814a59"
            },
            "outputs": [
                {
                    "data": {
                        "text/plain": "Index(['FIRST_NAME', 'LAST_NAME', 'DEPARTMENT', 'JOB_TITLE',\n       'ELECTED_OFFICIAL', 'DATE_STARTED', 'SEX', 'ETHNICITY', 'ORIG_START',\n       'DATE_TERM', 'PAY_STATUS', 'ANNUAL_SALARY', 'REGULAR_PAY',\n       'OVERTIME_PAY', 'INCENTIVE_PAY', 'GROSS_PAY'],\n      dtype='object')"
                    },
                    "metadata": {},
                    "execution_count": 1345,
                    "output_type": "execute_result"
                }
            ],
            "execution_count": 1345
        },
        {
            "cell_type": "markdown",
            "source": [
                "Display the top 5 rows in the dataframe"
            ],
            "metadata": {
                "language": "python",
                "azdata_cell_guid": "9f2dcdeb-0243-4c9a-ba7c-09fa16b289ca"
            },
            "attachments": {}
        },
        {
            "cell_type": "code",
            "source": [
                "salaries_df.head()"
            ],
            "metadata": {
                "language": "python",
                "azdata_cell_guid": "4110f01e-8e07-4ad6-81f1-9a9aab6ddca8"
            },
            "outputs": [
                {
                    "data": {
                        "text/plain": "    FIRST_NAME LAST_NAME             DEPARTMENT                  JOB_TITLE  \\\n0    CATHERINE     ABALO  Kane Regional Centers          NURSING ASSISTANT   \n1      KEVIN J    ABBOTT   Emergency Management   FIRE INSTRUCTORPART TIME   \n2        JOY M    ABBOTT  Kane Regional Centers                       COOK   \n3  ELIZABETH S   ABRAHAM                  Parks              SEASONAL AIDE   \n4      JASMINE     ABRAM   Emergency Management  TELECOMMUNICATION OFFICER   \n\n   ELECTED_OFFICIAL DATE_STARTED SEX                       ETHNICITY  \\\n0                 0     4/8/2010   F                           Black   \n1                 0    6/11/2018   M  White (Not of Hispanic Origin)   \n2                 0    2/14/1999   F  White (Not of Hispanic Origin)   \n3                 0    5/26/2022   F  White (Not of Hispanic Origin)   \n4                 0    5/23/2022   F                           Black   \n\n  ORIG_START DATE_TERM  PAY_STATUS ANNUAL_SALARY REGULAR_PAY OVERTIME_PAY  \\\n0   7/6/2009       NaN      Active      41581.07    40740.50     23416.98   \n1  6/11/2018       NaN      Active      30576.00      378.00          NaN   \n2   2/2/1998       NaN      Active      40761.76    44015.85      1923.77   \n3  5/26/2022  9/5/2022  Terminated      39936.00     6488.00          NaN   \n4  5/31/2016       NaN      Active      52240.03    25637.96     15994.95   \n\n  INCENTIVE_PAY GROSS_PAY  \n0        125.00  64282.48  \n1           NaN    378.00  \n2        225.00  46164.62  \n3        100.00   6588.00  \n4        125.00  41757.91  ",
                        "text/html": "<div>\n<style scoped>\n    .dataframe tbody tr th:only-of-type {\n        vertical-align: middle;\n    }\n\n    .dataframe tbody tr th {\n        vertical-align: top;\n    }\n\n    .dataframe thead th {\n        text-align: right;\n    }\n</style>\n<table border=\"1\" class=\"dataframe\">\n  <thead>\n    <tr style=\"text-align: right;\">\n      <th></th>\n      <th>FIRST_NAME</th>\n      <th>LAST_NAME</th>\n      <th>DEPARTMENT</th>\n      <th>JOB_TITLE</th>\n      <th>ELECTED_OFFICIAL</th>\n      <th>DATE_STARTED</th>\n      <th>SEX</th>\n      <th>ETHNICITY</th>\n      <th>ORIG_START</th>\n      <th>DATE_TERM</th>\n      <th>PAY_STATUS</th>\n      <th>ANNUAL_SALARY</th>\n      <th>REGULAR_PAY</th>\n      <th>OVERTIME_PAY</th>\n      <th>INCENTIVE_PAY</th>\n      <th>GROSS_PAY</th>\n    </tr>\n  </thead>\n  <tbody>\n    <tr>\n      <th>0</th>\n      <td>CATHERINE</td>\n      <td>ABALO</td>\n      <td>Kane Regional Centers</td>\n      <td>NURSING ASSISTANT</td>\n      <td>0</td>\n      <td>4/8/2010</td>\n      <td>F</td>\n      <td>Black</td>\n      <td>7/6/2009</td>\n      <td>NaN</td>\n      <td>Active</td>\n      <td>41581.07</td>\n      <td>40740.50</td>\n      <td>23416.98</td>\n      <td>125.00</td>\n      <td>64282.48</td>\n    </tr>\n    <tr>\n      <th>1</th>\n      <td>KEVIN J</td>\n      <td>ABBOTT</td>\n      <td>Emergency Management</td>\n      <td>FIRE INSTRUCTORPART TIME</td>\n      <td>0</td>\n      <td>6/11/2018</td>\n      <td>M</td>\n      <td>White (Not of Hispanic Origin)</td>\n      <td>6/11/2018</td>\n      <td>NaN</td>\n      <td>Active</td>\n      <td>30576.00</td>\n      <td>378.00</td>\n      <td>NaN</td>\n      <td>NaN</td>\n      <td>378.00</td>\n    </tr>\n    <tr>\n      <th>2</th>\n      <td>JOY M</td>\n      <td>ABBOTT</td>\n      <td>Kane Regional Centers</td>\n      <td>COOK</td>\n      <td>0</td>\n      <td>2/14/1999</td>\n      <td>F</td>\n      <td>White (Not of Hispanic Origin)</td>\n      <td>2/2/1998</td>\n      <td>NaN</td>\n      <td>Active</td>\n      <td>40761.76</td>\n      <td>44015.85</td>\n      <td>1923.77</td>\n      <td>225.00</td>\n      <td>46164.62</td>\n    </tr>\n    <tr>\n      <th>3</th>\n      <td>ELIZABETH S</td>\n      <td>ABRAHAM</td>\n      <td>Parks</td>\n      <td>SEASONAL AIDE</td>\n      <td>0</td>\n      <td>5/26/2022</td>\n      <td>F</td>\n      <td>White (Not of Hispanic Origin)</td>\n      <td>5/26/2022</td>\n      <td>9/5/2022</td>\n      <td>Terminated</td>\n      <td>39936.00</td>\n      <td>6488.00</td>\n      <td>NaN</td>\n      <td>100.00</td>\n      <td>6588.00</td>\n    </tr>\n    <tr>\n      <th>4</th>\n      <td>JASMINE</td>\n      <td>ABRAM</td>\n      <td>Emergency Management</td>\n      <td>TELECOMMUNICATION OFFICER</td>\n      <td>0</td>\n      <td>5/23/2022</td>\n      <td>F</td>\n      <td>Black</td>\n      <td>5/31/2016</td>\n      <td>NaN</td>\n      <td>Active</td>\n      <td>52240.03</td>\n      <td>25637.96</td>\n      <td>15994.95</td>\n      <td>125.00</td>\n      <td>41757.91</td>\n    </tr>\n  </tbody>\n</table>\n</div>"
                    },
                    "metadata": {},
                    "execution_count": 1346,
                    "output_type": "execute_result"
                }
            ],
            "execution_count": 1346
        },
        {
            "cell_type": "markdown",
            "source": [
                "## 2 - Statistics"
            ],
            "metadata": {
                "language": "python",
                "azdata_cell_guid": "e866f5f9-dfd9-42b0-b198-f0740f0f5e12"
            },
            "attachments": {}
        },
        {
            "cell_type": "markdown",
            "source": [
                "Change the string columns to numeric"
            ],
            "metadata": {
                "language": "python",
                "azdata_cell_guid": "524078fc-b1a1-4996-af78-201bc5dfc895"
            },
            "attachments": {}
        },
        {
            "cell_type": "code",
            "source": [
                "salaries_df[['ANNUAL_SALARY', 'REGULAR_PAY', 'OVERTIME_PAY', 'INCENTIVE_PAY', 'GROSS_PAY']] = salaries_df[['ANNUAL_SALARY', 'REGULAR_PAY', 'OVERTIME_PAY', 'INCENTIVE_PAY', 'GROSS_PAY']].apply(pd.to_numeric)"
            ],
            "metadata": {
                "language": "python",
                "azdata_cell_guid": "b76b785c-655f-4f42-bc10-f3221dd431ae"
            },
            "outputs": [],
            "execution_count": 1347
        },
        {
            "cell_type": "markdown",
            "source": [
                "Set the precision to 2 decimal places"
            ],
            "metadata": {
                "language": "python",
                "azdata_cell_guid": "b8792d18-c30a-4782-bf94-26d372858cf8"
            },
            "attachments": {}
        },
        {
            "cell_type": "code",
            "source": [
                "pd.options.display.precision = 2"
            ],
            "metadata": {
                "language": "python",
                "azdata_cell_guid": "0534db16-9bea-48f3-b1af-4b59500b5f1a"
            },
            "outputs": [],
            "execution_count": 1348
        },
        {
            "cell_type": "markdown",
            "source": [
                "Determine the mean annual salary"
            ],
            "metadata": {
                "language": "python",
                "azdata_cell_guid": "30e104d6-58c5-4551-92cd-6c057ffba639"
            },
            "attachments": {}
        },
        {
            "cell_type": "code",
            "source": [
                "avg_annual_salary = salaries_df['ANNUAL_SALARY'].mean()\n",
                "max_annual_salary = salaries_df['ANNUAL_SALARY'].max() # Maximum salary\n",
                "avg_annual_salary"
            ],
            "metadata": {
                "language": "python",
                "azdata_cell_guid": "15477b9a-0c19-4065-9be4-544368e28a2d"
            },
            "outputs": [
                {
                    "data": {
                        "text/plain": "55947.46600477707"
                    },
                    "metadata": {},
                    "execution_count": 1349,
                    "output_type": "execute_result"
                }
            ],
            "execution_count": 1349
        },
        {
            "cell_type": "markdown",
            "source": [
                "Find the median annual salary"
            ],
            "metadata": {
                "language": "python",
                "azdata_cell_guid": "e7380bed-5451-4e5c-a08e-6e8acb06c172"
            },
            "attachments": {}
        },
        {
            "cell_type": "code",
            "source": [
                "salaries_df['ANNUAL_SALARY'].std()"
            ],
            "metadata": {
                "language": "python",
                "azdata_cell_guid": "9db3040e-7ce3-4a29-abcf-da8e02a2fe7f"
            },
            "outputs": [
                {
                    "data": {
                        "text/plain": "22630.68417416379"
                    },
                    "metadata": {},
                    "execution_count": 1350,
                    "output_type": "execute_result"
                }
            ],
            "execution_count": 1350
        },
        {
            "cell_type": "markdown",
            "source": [
                "What is the mode in the sex column"
            ],
            "metadata": {
                "language": "python",
                "azdata_cell_guid": "f83f2a78-08e1-41e1-ade7-38b9e2afa0a2"
            },
            "attachments": {}
        },
        {
            "cell_type": "code",
            "source": [
                "salaries_df['SEX'].mode()"
            ],
            "metadata": {
                "language": "python",
                "azdata_cell_guid": "887411d5-0911-4e59-8995-8f5d02565723"
            },
            "outputs": [
                {
                    "data": {
                        "text/plain": "0    M\nName: SEX, dtype: object"
                    },
                    "metadata": {},
                    "execution_count": 1351,
                    "output_type": "execute_result"
                }
            ],
            "execution_count": 1351
        },
        {
            "cell_type": "markdown",
            "source": [
                "From the mode() function, we found that the dataset contains more male employees.\n",
                "\n",
                "Let's look at the actual counts of the sex values."
            ],
            "metadata": {
                "language": "python",
                "azdata_cell_guid": "2952a20c-62e8-4e2b-824c-8b976e6d81b2"
            },
            "attachments": {}
        },
        {
            "cell_type": "code",
            "source": [
                "salaries_df['SEX'].value_counts()"
            ],
            "metadata": {
                "language": "python",
                "azdata_cell_guid": "856d2aa2-8fdf-405b-8633-6ab5628701d8"
            },
            "outputs": [
                {
                    "data": {
                        "text/plain": "M    3187\nF    3093\nName: SEX, dtype: int64"
                    },
                    "metadata": {},
                    "execution_count": 1352,
                    "output_type": "execute_result"
                }
            ],
            "execution_count": 1352
        },
        {
            "cell_type": "markdown",
            "source": [
                "So what's the summary of annual salary for each sex?"
            ],
            "metadata": {
                "language": "python",
                "azdata_cell_guid": "edea0c6e-0028-4890-b43a-6a56e071c9ff"
            },
            "attachments": {}
        },
        {
            "cell_type": "code",
            "source": [
                "salaries_df.groupby('SEX')['ANNUAL_SALARY'].describe()"
            ],
            "metadata": {
                "language": "python",
                "azdata_cell_guid": "75a70272-96c1-4472-8592-07128fe17399"
            },
            "outputs": [
                {
                    "data": {
                        "text/plain": "      count      mean       std      min       25%       50%       75%  \\\nSEX                                                                      \nF    3093.0  51903.54  19923.32  7540.00  39936.00  46751.33  59633.81   \nM    3187.0  59872.11  24348.21  5666.96  43100.51  53767.58  75998.62   \n\n           max  \nSEX             \nF    269250.18  \nM    235750.11  ",
                        "text/html": "<div>\n<style scoped>\n    .dataframe tbody tr th:only-of-type {\n        vertical-align: middle;\n    }\n\n    .dataframe tbody tr th {\n        vertical-align: top;\n    }\n\n    .dataframe thead th {\n        text-align: right;\n    }\n</style>\n<table border=\"1\" class=\"dataframe\">\n  <thead>\n    <tr style=\"text-align: right;\">\n      <th></th>\n      <th>count</th>\n      <th>mean</th>\n      <th>std</th>\n      <th>min</th>\n      <th>25%</th>\n      <th>50%</th>\n      <th>75%</th>\n      <th>max</th>\n    </tr>\n    <tr>\n      <th>SEX</th>\n      <th></th>\n      <th></th>\n      <th></th>\n      <th></th>\n      <th></th>\n      <th></th>\n      <th></th>\n      <th></th>\n    </tr>\n  </thead>\n  <tbody>\n    <tr>\n      <th>F</th>\n      <td>3093.0</td>\n      <td>51903.54</td>\n      <td>19923.32</td>\n      <td>7540.00</td>\n      <td>39936.00</td>\n      <td>46751.33</td>\n      <td>59633.81</td>\n      <td>269250.18</td>\n    </tr>\n    <tr>\n      <th>M</th>\n      <td>3187.0</td>\n      <td>59872.11</td>\n      <td>24348.21</td>\n      <td>5666.96</td>\n      <td>43100.51</td>\n      <td>53767.58</td>\n      <td>75998.62</td>\n      <td>235750.11</td>\n    </tr>\n  </tbody>\n</table>\n</div>"
                    },
                    "metadata": {},
                    "execution_count": 1353,
                    "output_type": "execute_result"
                }
            ],
            "execution_count": 1353
        },
        {
            "cell_type": "markdown",
            "source": [
                "From this, we can tell that the average pay of the male workers is generally higher than of the females. \n",
                "\n",
                "Nonetheless, there is 1 female who is paid higher than the highest-paid male;"
            ],
            "metadata": {
                "language": "python",
                "azdata_cell_guid": "796b6cfc-8e45-4d46-909e-824f3b768d09"
            },
            "attachments": {}
        },
        {
            "cell_type": "code",
            "source": [
                "# Females dataframe\n",
                "female_df = salaries_df[salaries_df['SEX'] == 'F']\n",
                "\n",
                "# Maximum pay of the males\n",
                "max_male_pay = salaries_df[salaries_df['SEX'] == 'M']['ANNUAL_SALARY'].max()\n",
                "\n",
                "# Females paid higher than the highest-paid male\n",
                "female_higher_pay_df = female_df[female_df['ANNUAL_SALARY'] > max_male_pay]\n",
                "len(female_higher_pay_df)"
            ],
            "metadata": {
                "language": "python",
                "azdata_cell_guid": "192e9ed0-6dba-43ac-9cae-5bab68c3f789",
                "tags": []
            },
            "outputs": [
                {
                    "data": {
                        "text/plain": "1"
                    },
                    "metadata": {},
                    "execution_count": 1354,
                    "output_type": "execute_result"
                }
            ],
            "execution_count": 1354
        },
        {
            "cell_type": "markdown",
            "source": [
                "## 3 - Built-in functions"
            ],
            "metadata": {
                "language": "python",
                "azdata_cell_guid": "9c98a1f8-9417-4c79-bdc9-f141a75977bd"
            },
            "attachments": {}
        },
        {
            "cell_type": "markdown",
            "source": [
                "Find the minimum annual salary"
            ],
            "metadata": {
                "language": "python",
                "azdata_cell_guid": "4e417f61-ba1f-47d5-9dcd-6079c7d61c7e"
            },
            "attachments": {}
        },
        {
            "cell_type": "code",
            "source": [
                "salaries_df['ANNUAL_SALARY'].min()"
            ],
            "metadata": {
                "language": "python",
                "azdata_cell_guid": "5ef8df6b-d394-4fae-b221-f30ad8be0b19"
            },
            "outputs": [
                {
                    "data": {
                        "text/plain": "5666.96"
                    },
                    "metadata": {},
                    "execution_count": 1355,
                    "output_type": "execute_result"
                }
            ],
            "execution_count": 1355
        },
        {
            "cell_type": "markdown",
            "source": [
                "Find the maximum annual salary"
            ],
            "metadata": {
                "language": "python",
                "azdata_cell_guid": "a4b7d254-4709-4390-8a84-844c1bbbaad1"
            },
            "attachments": {}
        },
        {
            "cell_type": "code",
            "source": [
                "salaries_df['ANNUAL_SALARY'].max()"
            ],
            "metadata": {
                "language": "python",
                "azdata_cell_guid": "deb3529b-21c2-47dd-8648-958ba700121a"
            },
            "outputs": [
                {
                    "data": {
                        "text/plain": "269250.18"
                    },
                    "metadata": {},
                    "execution_count": 1356,
                    "output_type": "execute_result"
                }
            ],
            "execution_count": 1356
        },
        {
            "cell_type": "markdown",
            "source": [
                "How many columns are in the dataframe?"
            ],
            "metadata": {
                "language": "python",
                "azdata_cell_guid": "05d64556-e111-43ce-b4cc-3c0c9aa4d1ca"
            },
            "attachments": {}
        },
        {
            "cell_type": "code",
            "source": [
                "len(salaries_df.columns)"
            ],
            "metadata": {
                "language": "python",
                "azdata_cell_guid": "fe14b227-ba6c-4d91-9e1a-21d4bd44a3a1"
            },
            "outputs": [
                {
                    "data": {
                        "text/plain": "16"
                    },
                    "metadata": {},
                    "execution_count": 1357,
                    "output_type": "execute_result"
                }
            ],
            "execution_count": 1357
        },
        {
            "cell_type": "markdown",
            "source": [
                "What about rows?"
            ],
            "metadata": {
                "language": "python",
                "azdata_cell_guid": "65a8927b-e679-41ea-82d8-d488b47f0f96"
            },
            "attachments": {}
        },
        {
            "cell_type": "code",
            "source": [
                "len(salaries_df)"
            ],
            "metadata": {
                "language": "python",
                "azdata_cell_guid": "0ce37ca0-021b-44a5-8100-a0ca71deb7fa"
            },
            "outputs": [
                {
                    "data": {
                        "text/plain": "6280"
                    },
                    "metadata": {},
                    "execution_count": 1358,
                    "output_type": "execute_result"
                }
            ],
            "execution_count": 1358
        },
        {
            "cell_type": "markdown",
            "source": [
                "Summarize the dataset information"
            ],
            "metadata": {
                "language": "python",
                "azdata_cell_guid": "5e4a30c3-8e67-4e57-b759-c8021b4b7115"
            },
            "attachments": {}
        },
        {
            "cell_type": "code",
            "source": [
                "salaries_df.info()"
            ],
            "metadata": {
                "language": "python",
                "azdata_cell_guid": "11d71478-769e-4e20-8a12-190628a93260"
            },
            "outputs": [
                {
                    "name": "stdout",
                    "text": "<class 'pandas.core.frame.DataFrame'>\nRangeIndex: 6280 entries, 0 to 6279\nData columns (total 16 columns):\n #   Column            Non-Null Count  Dtype  \n---  ------            --------------  -----  \n 0   FIRST_NAME        6280 non-null   object \n 1   LAST_NAME         6280 non-null   object \n 2   DEPARTMENT        6280 non-null   object \n 3   JOB_TITLE         6280 non-null   object \n 4   ELECTED_OFFICIAL  6280 non-null   int64  \n 5   DATE_STARTED      6280 non-null   object \n 6   SEX               6280 non-null   object \n 7   ETHNICITY         6280 non-null   object \n 8   ORIG_START        6280 non-null   object \n 9   DATE_TERM         1263 non-null   object \n 10  PAY_STATUS        6280 non-null   object \n 11  ANNUAL_SALARY     6280 non-null   float64\n 12  REGULAR_PAY       6275 non-null   float64\n 13  OVERTIME_PAY      3999 non-null   float64\n 14  INCENTIVE_PAY     3454 non-null   float64\n 15  GROSS_PAY         6280 non-null   float64\ndtypes: float64(5), int64(1), object(10)\nmemory usage: 785.1+ KB\n",
                    "output_type": "stream"
                }
            ],
            "execution_count": 1359
        },
        {
            "cell_type": "markdown",
            "source": [
                "## 4 - Create functions"
            ],
            "metadata": {
                "language": "python",
                "azdata_cell_guid": "79f17321-b1a9-4208-b1fb-6ceeb5eb6b59"
            },
            "attachments": {}
        },
        {
            "cell_type": "markdown",
            "source": [
                "Function that filters the DataFrame to only include rows with a certain value in a specific column:"
            ],
            "metadata": {
                "language": "python",
                "azdata_cell_guid": "fd343462-7bef-4443-a121-9edc76aee23f"
            },
            "attachments": {}
        },
        {
            "cell_type": "code",
            "source": [
                "def filter_by_value(df, col, val):\n",
                "    filtered_df = df[df[col] == val]\n",
                "    return filtered_df\n",
                "\n",
                "salaries_df['DEPARTMENT'].value_counts()"
            ],
            "metadata": {
                "language": "python",
                "azdata_cell_guid": "7d474e50-6e53-4f63-bb5d-441f294aec7b",
                "tags": []
            },
            "outputs": [
                {
                    "data": {
                        "text/plain": "Human Services             935\nKane Regional Centers      814\nParks                      732\nJail                       635\nEmergency Management       404\nHealth                     401\nPolice                     298\nDistrict Attorney          266\nPublic Works Operating     240\nFacilities Management      230\nAdministrative Services    217\nSheriff                    210\nPublic Defender            162\nCourt Records              122\nInformation Technology     115\nMedical Examiner           105\nController                  92\nTreasurer                   79\nEconomic Development        78\nCounty Solicitor            57\nHuman Resources             27\nCounty Manager              20\nBudget & Finance             9\nEquity and Inclusion         9\nCounty Council               7\nChildren Initiatives         7\nRetirement System            4\nSustainability               3\nCounty Executive             2\nName: DEPARTMENT, dtype: int64"
                    },
                    "metadata": {},
                    "execution_count": 1360,
                    "output_type": "execute_result"
                }
            ],
            "execution_count": 1360
        },
        {
            "cell_type": "markdown",
            "source": [
                "Use the function to show the entries of employees from the County Executive Department"
            ],
            "metadata": {
                "language": "python",
                "azdata_cell_guid": "5567dc53-5c07-4fde-b6b2-fcbc723cce68"
            },
            "attachments": {}
        },
        {
            "cell_type": "code",
            "source": [
                "filter_by_value(salaries_df, 'DEPARTMENT', 'County Executive')"
            ],
            "metadata": {
                "language": "python",
                "azdata_cell_guid": "4fcc4ea5-2c4d-488a-827a-e85f007c3d4f"
            },
            "outputs": [
                {
                    "data": {
                        "text/plain": "       FIRST_NAME   LAST_NAME        DEPARTMENT         JOB_TITLE  \\\n1653      RICHARD  FITZGERALD  County Executive  COUNTY EXECUTIVE   \n3044  JENNIFER M.      LIPTAK  County Executive    CHIEF OF STAFF   \n\n      ELECTED_OFFICIAL DATE_STARTED SEX                       ETHNICITY  \\\n1653                 1     1/3/2012   M  White (Not of Hispanic Origin)   \n3044                 0   10/26/1998   F  White (Not of Hispanic Origin)   \n\n      ORIG_START DATE_TERM PAY_STATUS  ANNUAL_SALARY  REGULAR_PAY  \\\n1653    1/1/2000       NaN     Active      142339.18     142198.3   \n3044  10/26/1998       NaN     Active      182000.00     181804.6   \n\n      OVERTIME_PAY  INCENTIVE_PAY  GROSS_PAY  \n1653           NaN          125.0   142323.3  \n3044           NaN          125.0   181929.6  ",
                        "text/html": "<div>\n<style scoped>\n    .dataframe tbody tr th:only-of-type {\n        vertical-align: middle;\n    }\n\n    .dataframe tbody tr th {\n        vertical-align: top;\n    }\n\n    .dataframe thead th {\n        text-align: right;\n    }\n</style>\n<table border=\"1\" class=\"dataframe\">\n  <thead>\n    <tr style=\"text-align: right;\">\n      <th></th>\n      <th>FIRST_NAME</th>\n      <th>LAST_NAME</th>\n      <th>DEPARTMENT</th>\n      <th>JOB_TITLE</th>\n      <th>ELECTED_OFFICIAL</th>\n      <th>DATE_STARTED</th>\n      <th>SEX</th>\n      <th>ETHNICITY</th>\n      <th>ORIG_START</th>\n      <th>DATE_TERM</th>\n      <th>PAY_STATUS</th>\n      <th>ANNUAL_SALARY</th>\n      <th>REGULAR_PAY</th>\n      <th>OVERTIME_PAY</th>\n      <th>INCENTIVE_PAY</th>\n      <th>GROSS_PAY</th>\n    </tr>\n  </thead>\n  <tbody>\n    <tr>\n      <th>1653</th>\n      <td>RICHARD</td>\n      <td>FITZGERALD</td>\n      <td>County Executive</td>\n      <td>COUNTY EXECUTIVE</td>\n      <td>1</td>\n      <td>1/3/2012</td>\n      <td>M</td>\n      <td>White (Not of Hispanic Origin)</td>\n      <td>1/1/2000</td>\n      <td>NaN</td>\n      <td>Active</td>\n      <td>142339.18</td>\n      <td>142198.3</td>\n      <td>NaN</td>\n      <td>125.0</td>\n      <td>142323.3</td>\n    </tr>\n    <tr>\n      <th>3044</th>\n      <td>JENNIFER M.</td>\n      <td>LIPTAK</td>\n      <td>County Executive</td>\n      <td>CHIEF OF STAFF</td>\n      <td>0</td>\n      <td>10/26/1998</td>\n      <td>F</td>\n      <td>White (Not of Hispanic Origin)</td>\n      <td>10/26/1998</td>\n      <td>NaN</td>\n      <td>Active</td>\n      <td>182000.00</td>\n      <td>181804.6</td>\n      <td>NaN</td>\n      <td>125.0</td>\n      <td>181929.6</td>\n    </tr>\n  </tbody>\n</table>\n</div>"
                    },
                    "metadata": {},
                    "execution_count": 1361,
                    "output_type": "execute_result"
                }
            ],
            "execution_count": 1361
        },
        {
            "cell_type": "markdown",
            "source": [
                "Function that transforms a column of numerical data into categories based on a threshold value:"
            ],
            "metadata": {
                "language": "python",
                "azdata_cell_guid": "16c5cb4a-2629-457e-b6e8-1634913325bd"
            },
            "attachments": {}
        },
        {
            "cell_type": "code",
            "source": [
                "def categorize_by_value(df, col, threshold):\n",
                "    categories = pd.cut(df[col], bins=[-float('inf'), threshold, float('inf')], labels=['Low', 'High'])\n",
                "    df['CATEGORY'] = categories\n",
                "    return df"
            ],
            "metadata": {
                "language": "python",
                "azdata_cell_guid": "01aaa7e9-0f18-4c8e-8027-f654713b60b6"
            },
            "outputs": [],
            "execution_count": 1362
        },
        {
            "cell_type": "markdown",
            "source": [
                "Obtain part of the dataframe for workers in the Children Initiatives Department"
            ],
            "metadata": {
                "language": "python",
                "azdata_cell_guid": "6b2132e6-22fc-4155-a4d9-b377dfc010de"
            },
            "attachments": {}
        },
        {
            "cell_type": "code",
            "source": [
                "children_initiatives_employees_df = filter_by_value(salaries_df.copy(), 'DEPARTMENT', 'Children Initiatives')"
            ],
            "metadata": {
                "language": "python",
                "azdata_cell_guid": "2db7fe12-613c-47f5-96c2-cd1326b0aaf0"
            },
            "outputs": [],
            "execution_count": 1363
        },
        {
            "cell_type": "markdown",
            "source": [
                "Categorise the annual salaries for the Children Initiatives Department employees into High or Low using the average annual salary as the <span style=\"color: rgb(255, 255, 255); font-family: Menlo, Monaco, &quot;Courier New&quot;, monospace; font-size: 12px; white-space: pre;\">threshold</span>"
            ],
            "metadata": {
                "language": "python",
                "azdata_cell_guid": "53f4cfc5-c5bd-4933-8063-a8b3ac3ecf56"
            },
            "attachments": {}
        },
        {
            "cell_type": "code",
            "source": [
                "categorize_by_value(children_initiatives_employees_df, 'ANNUAL_SALARY', avg_annual_salary)[['FIRST_NAME', 'DEPARTMENT', 'DATE_STARTED', 'SEX', 'ANNUAL_SALARY', 'CATEGORY']]"
            ],
            "metadata": {
                "language": "python",
                "azdata_cell_guid": "0965c297-462d-45db-ad4f-e8d9985ca4c7"
            },
            "outputs": [
                {
                    "data": {
                        "text/plain": "     FIRST_NAME            DEPARTMENT DATE_STARTED SEX  ANNUAL_SALARY CATEGORY\n618      THOMAS  Children Initiatives    3/14/2022   M       70002.40     High\n2143      TYLOR  Children Initiatives   12/13/2021   M       71924.94     High\n3280    PAULA J  Children Initiatives    6/13/2022   F       44000.11      Low\n3458    ALLISON  Children Initiatives    6/18/2018   F       50000.08      Low\n3465  REBECCA C  Children Initiatives     6/7/2021   F      128500.11     High\n3750      MEGAN  Children Initiatives     1/3/2022   F       89999.94     High\n5742    DAMARRA  Children Initiatives    8/29/2022   F       69999.90     High",
                        "text/html": "<div>\n<style scoped>\n    .dataframe tbody tr th:only-of-type {\n        vertical-align: middle;\n    }\n\n    .dataframe tbody tr th {\n        vertical-align: top;\n    }\n\n    .dataframe thead th {\n        text-align: right;\n    }\n</style>\n<table border=\"1\" class=\"dataframe\">\n  <thead>\n    <tr style=\"text-align: right;\">\n      <th></th>\n      <th>FIRST_NAME</th>\n      <th>DEPARTMENT</th>\n      <th>DATE_STARTED</th>\n      <th>SEX</th>\n      <th>ANNUAL_SALARY</th>\n      <th>CATEGORY</th>\n    </tr>\n  </thead>\n  <tbody>\n    <tr>\n      <th>618</th>\n      <td>THOMAS</td>\n      <td>Children Initiatives</td>\n      <td>3/14/2022</td>\n      <td>M</td>\n      <td>70002.40</td>\n      <td>High</td>\n    </tr>\n    <tr>\n      <th>2143</th>\n      <td>TYLOR</td>\n      <td>Children Initiatives</td>\n      <td>12/13/2021</td>\n      <td>M</td>\n      <td>71924.94</td>\n      <td>High</td>\n    </tr>\n    <tr>\n      <th>3280</th>\n      <td>PAULA J</td>\n      <td>Children Initiatives</td>\n      <td>6/13/2022</td>\n      <td>F</td>\n      <td>44000.11</td>\n      <td>Low</td>\n    </tr>\n    <tr>\n      <th>3458</th>\n      <td>ALLISON</td>\n      <td>Children Initiatives</td>\n      <td>6/18/2018</td>\n      <td>F</td>\n      <td>50000.08</td>\n      <td>Low</td>\n    </tr>\n    <tr>\n      <th>3465</th>\n      <td>REBECCA C</td>\n      <td>Children Initiatives</td>\n      <td>6/7/2021</td>\n      <td>F</td>\n      <td>128500.11</td>\n      <td>High</td>\n    </tr>\n    <tr>\n      <th>3750</th>\n      <td>MEGAN</td>\n      <td>Children Initiatives</td>\n      <td>1/3/2022</td>\n      <td>F</td>\n      <td>89999.94</td>\n      <td>High</td>\n    </tr>\n    <tr>\n      <th>5742</th>\n      <td>DAMARRA</td>\n      <td>Children Initiatives</td>\n      <td>8/29/2022</td>\n      <td>F</td>\n      <td>69999.90</td>\n      <td>High</td>\n    </tr>\n  </tbody>\n</table>\n</div>"
                    },
                    "metadata": {},
                    "execution_count": 1364,
                    "output_type": "execute_result"
                }
            ],
            "execution_count": 1364
        },
        {
            "cell_type": "markdown",
            "source": [
                "## 5 - List\n",
                "\n",
                "Get the list of annual salaries for the employees in the Children Initiatives Department (CID): <span style=\"color: rgb(255, 255, 255); font-family: Menlo, Monaco, &quot;Courier New&quot;, monospace; font-size: 12px; white-space: pre;\">cie_annual_salaries</span>"
            ],
            "metadata": {
                "language": "python",
                "azdata_cell_guid": "95718131-7137-4a9c-b8e5-168ad7a30dfe"
            },
            "attachments": {}
        },
        {
            "cell_type": "code",
            "source": [
                "cie_annual_salaries = children_initiatives_employees_df['ANNUAL_SALARY'].to_list()"
            ],
            "metadata": {
                "language": "python",
                "azdata_cell_guid": "5e3a5ba9-2863-48a4-85d2-9969f67c3f81"
            },
            "outputs": [],
            "execution_count": 1365
        },
        {
            "cell_type": "markdown",
            "source": [
                "Filter out the non-White employees that earn incentive pay of more than 6000"
            ],
            "metadata": {
                "language": "python",
                "azdata_cell_guid": "073644ae-8828-4ab0-960f-b380424b251e"
            },
            "attachments": {}
        },
        {
            "cell_type": "code",
            "source": [
                "selected_cols = ['FIRST_NAME', 'DEPARTMENT', 'DATE_STARTED', 'SEX', 'ETHNICITY', 'PAY_STATUS', 'ANNUAL_SALARY', 'INCENTIVE_PAY']\n",
                "filtered_df = salaries_df.filter(selected_cols).loc[(salaries_df['INCENTIVE_PAY'] > 6000) & ~(salaries_df['ETHNICITY'].str.contains('White'))]\n",
                "\n",
                "filtered_df"
            ],
            "metadata": {
                "language": "python",
                "azdata_cell_guid": "6eca7582-87bd-419c-a4d7-193658f0e369"
            },
            "outputs": [
                {
                    "data": {
                        "text/plain": "     FIRST_NAME DEPARTMENT DATE_STARTED SEX ETHNICITY PAY_STATUS  \\\n4346   REDACTED    Sheriff    1/15/1998   F     Black     Active   \n4523   REDACTED    Sheriff   10/30/1995   M     Black     Active   \n4528   REDACTED    Sheriff    4/27/1998   M     Black     Active   \n4538   REDACTED    Sheriff    6/28/1999   M     Black     Active   \n\n      ANNUAL_SALARY  INCENTIVE_PAY  \n4346      103829.02        6873.88  \n4523       94389.78        6496.31  \n4528       94389.78        6496.31  \n4538       94389.78        6260.34  ",
                        "text/html": "<div>\n<style scoped>\n    .dataframe tbody tr th:only-of-type {\n        vertical-align: middle;\n    }\n\n    .dataframe tbody tr th {\n        vertical-align: top;\n    }\n\n    .dataframe thead th {\n        text-align: right;\n    }\n</style>\n<table border=\"1\" class=\"dataframe\">\n  <thead>\n    <tr style=\"text-align: right;\">\n      <th></th>\n      <th>FIRST_NAME</th>\n      <th>DEPARTMENT</th>\n      <th>DATE_STARTED</th>\n      <th>SEX</th>\n      <th>ETHNICITY</th>\n      <th>PAY_STATUS</th>\n      <th>ANNUAL_SALARY</th>\n      <th>INCENTIVE_PAY</th>\n    </tr>\n  </thead>\n  <tbody>\n    <tr>\n      <th>4346</th>\n      <td>REDACTED</td>\n      <td>Sheriff</td>\n      <td>1/15/1998</td>\n      <td>F</td>\n      <td>Black</td>\n      <td>Active</td>\n      <td>103829.02</td>\n      <td>6873.88</td>\n    </tr>\n    <tr>\n      <th>4523</th>\n      <td>REDACTED</td>\n      <td>Sheriff</td>\n      <td>10/30/1995</td>\n      <td>M</td>\n      <td>Black</td>\n      <td>Active</td>\n      <td>94389.78</td>\n      <td>6496.31</td>\n    </tr>\n    <tr>\n      <th>4528</th>\n      <td>REDACTED</td>\n      <td>Sheriff</td>\n      <td>4/27/1998</td>\n      <td>M</td>\n      <td>Black</td>\n      <td>Active</td>\n      <td>94389.78</td>\n      <td>6496.31</td>\n    </tr>\n    <tr>\n      <th>4538</th>\n      <td>REDACTED</td>\n      <td>Sheriff</td>\n      <td>6/28/1999</td>\n      <td>M</td>\n      <td>Black</td>\n      <td>Active</td>\n      <td>94389.78</td>\n      <td>6260.34</td>\n    </tr>\n  </tbody>\n</table>\n</div>"
                    },
                    "metadata": {},
                    "execution_count": 1366,
                    "output_type": "execute_result"
                }
            ],
            "execution_count": 1366
        },
        {
            "cell_type": "markdown",
            "source": [
                "Use map() to obtain the monthly salary for County Managers"
            ],
            "metadata": {
                "language": "python",
                "azdata_cell_guid": "ff926347-5040-43f1-a5be-9bb524d4b34d"
            },
            "attachments": {}
        },
        {
            "cell_type": "code",
            "source": [
                "def year_to_month(annual_pay):\n",
                "    return {annual_pay / 12 if annual_pay != 0 else 0} # Divide by 12 months\n",
                "\n",
                "cm_annual_salaries_df = filter_by_value(salaries_df.copy(), 'DEPARTMENT', 'County Manager')\n",
                "\n",
                "cm_annual_salaries_df['MONTHLY_SALARY'] = list(map(year_to_month, cm_annual_salaries_df['ANNUAL_SALARY']))\n",
                "cm_annual_salaries_df[['FIRST_NAME', 'DEPARTMENT', 'DATE_STARTED', 'SEX', 'ANNUAL_SALARY', 'MONTHLY_SALARY']]"
            ],
            "metadata": {
                "language": "python",
                "azdata_cell_guid": "da04da15-999f-4f50-9911-1b7e3c9e92e3"
            },
            "outputs": [
                {
                    "data": {
                        "text/plain": "         FIRST_NAME      DEPARTMENT DATE_STARTED SEX  ANNUAL_SALARY  \\\n132      GEOFFREY L  County Manager   10/21/2019   M       80999.98   \n1303        SONYA L  County Manager    8/29/2005   F       72750.08   \n1305     PATRICIA R  County Manager    1/28/2019   F       39500.03   \n1401         AMIE M  County Manager   11/28/2011   F      128500.11   \n1680    MARY JOANNE  County Manager     5/4/2015   F      128500.11   \n1885         LUCY E  County Manager     9/8/2020   F       80999.98   \n1993   ALEXANDRIA L  County Manager    12/6/2021   F       51375.17   \n2132         KATIAN  County Manager    10/4/2021   F       45760.00   \n2325         JOAN M  County Manager   10/23/1989   F       46941.23   \n3126      MARY JANE  County Manager    10/3/2022   F       20800.00   \n3398      WILLIAM D  County Manager     8/1/2012   M      235750.11   \n3950       MENGMENG  County Manager    8/20/2018   F       63553.15   \n4014        DARRELL  County Manager     9/4/2018   M       95000.46   \n4035      HEATHER L  County Manager    2/12/2007   F       72500.06   \n4104      STEPHEN E  County Manager     9/9/1985   M      160000.05   \n5657  CHRISTOPHER D  County Manager     4/5/2021   M       82200.14   \n5860        MELISSA  County Manager     8/4/2019   F       85940.19   \n5969       MARIE C.  County Manager   10/14/2008   F       42750.03   \n6022        THERESA  County Manager    11/1/1982   F       53250.08   \n6040         JUSTIN  County Manager    3/14/2022   M       50000.08   \n\n            MONTHLY_SALARY  \n132    {6749.998333333333}  \n1303   {6062.506666666667}  \n1305  {3291.6691666666666}  \n1401          {10708.3425}  \n1680          {10708.3425}  \n1885   {6749.998333333333}  \n1993   {4281.264166666667}  \n2132  {3813.3333333333335}  \n2325   {3911.769166666667}  \n3126  {1733.3333333333333}  \n3398          {19645.8425}  \n3950   {5296.095833333334}  \n4014   {7916.705000000001}  \n4035   {6041.671666666666}  \n4104          {13333.3375}  \n5657   {6850.011666666666}  \n5860           {7161.6825}  \n5969           {3562.5025}  \n6022   {4437.506666666667}  \n6040   {4166.673333333333}  ",
                        "text/html": "<div>\n<style scoped>\n    .dataframe tbody tr th:only-of-type {\n        vertical-align: middle;\n    }\n\n    .dataframe tbody tr th {\n        vertical-align: top;\n    }\n\n    .dataframe thead th {\n        text-align: right;\n    }\n</style>\n<table border=\"1\" class=\"dataframe\">\n  <thead>\n    <tr style=\"text-align: right;\">\n      <th></th>\n      <th>FIRST_NAME</th>\n      <th>DEPARTMENT</th>\n      <th>DATE_STARTED</th>\n      <th>SEX</th>\n      <th>ANNUAL_SALARY</th>\n      <th>MONTHLY_SALARY</th>\n    </tr>\n  </thead>\n  <tbody>\n    <tr>\n      <th>132</th>\n      <td>GEOFFREY L</td>\n      <td>County Manager</td>\n      <td>10/21/2019</td>\n      <td>M</td>\n      <td>80999.98</td>\n      <td>{6749.998333333333}</td>\n    </tr>\n    <tr>\n      <th>1303</th>\n      <td>SONYA L</td>\n      <td>County Manager</td>\n      <td>8/29/2005</td>\n      <td>F</td>\n      <td>72750.08</td>\n      <td>{6062.506666666667}</td>\n    </tr>\n    <tr>\n      <th>1305</th>\n      <td>PATRICIA R</td>\n      <td>County Manager</td>\n      <td>1/28/2019</td>\n      <td>F</td>\n      <td>39500.03</td>\n      <td>{3291.6691666666666}</td>\n    </tr>\n    <tr>\n      <th>1401</th>\n      <td>AMIE M</td>\n      <td>County Manager</td>\n      <td>11/28/2011</td>\n      <td>F</td>\n      <td>128500.11</td>\n      <td>{10708.3425}</td>\n    </tr>\n    <tr>\n      <th>1680</th>\n      <td>MARY JOANNE</td>\n      <td>County Manager</td>\n      <td>5/4/2015</td>\n      <td>F</td>\n      <td>128500.11</td>\n      <td>{10708.3425}</td>\n    </tr>\n    <tr>\n      <th>1885</th>\n      <td>LUCY E</td>\n      <td>County Manager</td>\n      <td>9/8/2020</td>\n      <td>F</td>\n      <td>80999.98</td>\n      <td>{6749.998333333333}</td>\n    </tr>\n    <tr>\n      <th>1993</th>\n      <td>ALEXANDRIA L</td>\n      <td>County Manager</td>\n      <td>12/6/2021</td>\n      <td>F</td>\n      <td>51375.17</td>\n      <td>{4281.264166666667}</td>\n    </tr>\n    <tr>\n      <th>2132</th>\n      <td>KATIAN</td>\n      <td>County Manager</td>\n      <td>10/4/2021</td>\n      <td>F</td>\n      <td>45760.00</td>\n      <td>{3813.3333333333335}</td>\n    </tr>\n    <tr>\n      <th>2325</th>\n      <td>JOAN M</td>\n      <td>County Manager</td>\n      <td>10/23/1989</td>\n      <td>F</td>\n      <td>46941.23</td>\n      <td>{3911.769166666667}</td>\n    </tr>\n    <tr>\n      <th>3126</th>\n      <td>MARY JANE</td>\n      <td>County Manager</td>\n      <td>10/3/2022</td>\n      <td>F</td>\n      <td>20800.00</td>\n      <td>{1733.3333333333333}</td>\n    </tr>\n    <tr>\n      <th>3398</th>\n      <td>WILLIAM D</td>\n      <td>County Manager</td>\n      <td>8/1/2012</td>\n      <td>M</td>\n      <td>235750.11</td>\n      <td>{19645.8425}</td>\n    </tr>\n    <tr>\n      <th>3950</th>\n      <td>MENGMENG</td>\n      <td>County Manager</td>\n      <td>8/20/2018</td>\n      <td>F</td>\n      <td>63553.15</td>\n      <td>{5296.095833333334}</td>\n    </tr>\n    <tr>\n      <th>4014</th>\n      <td>DARRELL</td>\n      <td>County Manager</td>\n      <td>9/4/2018</td>\n      <td>M</td>\n      <td>95000.46</td>\n      <td>{7916.705000000001}</td>\n    </tr>\n    <tr>\n      <th>4035</th>\n      <td>HEATHER L</td>\n      <td>County Manager</td>\n      <td>2/12/2007</td>\n      <td>F</td>\n      <td>72500.06</td>\n      <td>{6041.671666666666}</td>\n    </tr>\n    <tr>\n      <th>4104</th>\n      <td>STEPHEN E</td>\n      <td>County Manager</td>\n      <td>9/9/1985</td>\n      <td>M</td>\n      <td>160000.05</td>\n      <td>{13333.3375}</td>\n    </tr>\n    <tr>\n      <th>5657</th>\n      <td>CHRISTOPHER D</td>\n      <td>County Manager</td>\n      <td>4/5/2021</td>\n      <td>M</td>\n      <td>82200.14</td>\n      <td>{6850.011666666666}</td>\n    </tr>\n    <tr>\n      <th>5860</th>\n      <td>MELISSA</td>\n      <td>County Manager</td>\n      <td>8/4/2019</td>\n      <td>F</td>\n      <td>85940.19</td>\n      <td>{7161.6825}</td>\n    </tr>\n    <tr>\n      <th>5969</th>\n      <td>MARIE C.</td>\n      <td>County Manager</td>\n      <td>10/14/2008</td>\n      <td>F</td>\n      <td>42750.03</td>\n      <td>{3562.5025}</td>\n    </tr>\n    <tr>\n      <th>6022</th>\n      <td>THERESA</td>\n      <td>County Manager</td>\n      <td>11/1/1982</td>\n      <td>F</td>\n      <td>53250.08</td>\n      <td>{4437.506666666667}</td>\n    </tr>\n    <tr>\n      <th>6040</th>\n      <td>JUSTIN</td>\n      <td>County Manager</td>\n      <td>3/14/2022</td>\n      <td>M</td>\n      <td>50000.08</td>\n      <td>{4166.673333333333}</td>\n    </tr>\n  </tbody>\n</table>\n</div>"
                    },
                    "metadata": {},
                    "execution_count": 1367,
                    "output_type": "execute_result"
                }
            ],
            "execution_count": 1367
        },
        {
            "cell_type": "markdown",
            "source": [
                "Use map() to clean sex by standardizing it to Female or Male in place of F and M"
            ],
            "metadata": {
                "language": "python",
                "azdata_cell_guid": "fd0af11a-0e86-47dd-8cfb-49aecaef2509"
            },
            "attachments": {}
        },
        {
            "cell_type": "code",
            "source": [
                "def standardize_sex(raw_sex):\n",
                "    return ('Female' if raw_sex == 'F' else 'Male')\n",
                "\n",
                "cm_annual_salaries_df['SEX'] = list(map(standardize_sex, cm_annual_salaries_df['SEX']))\n",
                "cm_annual_salaries_df.filter(selected_cols)"
            ],
            "metadata": {
                "language": "python",
                "azdata_cell_guid": "3706ff39-12a8-4e2c-bc01-2905f57b3e7c"
            },
            "outputs": [
                {
                    "data": {
                        "text/plain": "         FIRST_NAME      DEPARTMENT DATE_STARTED     SEX  \\\n132      GEOFFREY L  County Manager   10/21/2019    Male   \n1303        SONYA L  County Manager    8/29/2005  Female   \n1305     PATRICIA R  County Manager    1/28/2019  Female   \n1401         AMIE M  County Manager   11/28/2011  Female   \n1680    MARY JOANNE  County Manager     5/4/2015  Female   \n1885         LUCY E  County Manager     9/8/2020  Female   \n1993   ALEXANDRIA L  County Manager    12/6/2021  Female   \n2132         KATIAN  County Manager    10/4/2021  Female   \n2325         JOAN M  County Manager   10/23/1989  Female   \n3126      MARY JANE  County Manager    10/3/2022  Female   \n3398      WILLIAM D  County Manager     8/1/2012    Male   \n3950       MENGMENG  County Manager    8/20/2018  Female   \n4014        DARRELL  County Manager     9/4/2018    Male   \n4035      HEATHER L  County Manager    2/12/2007  Female   \n4104      STEPHEN E  County Manager     9/9/1985    Male   \n5657  CHRISTOPHER D  County Manager     4/5/2021    Male   \n5860        MELISSA  County Manager     8/4/2019  Female   \n5969       MARIE C.  County Manager   10/14/2008  Female   \n6022        THERESA  County Manager    11/1/1982  Female   \n6040         JUSTIN  County Manager    3/14/2022    Male   \n\n                           ETHNICITY  PAY_STATUS  ANNUAL_SALARY  INCENTIVE_PAY  \n132   White (Not of Hispanic Origin)      Active       80999.98          125.0  \n1303  White (Not of Hispanic Origin)      Active       72750.08          125.0  \n1305                           Black      Active       39500.03            NaN  \n1401  White (Not of Hispanic Origin)      Active      128500.11          125.0  \n1680  White (Not of Hispanic Origin)      Active      128500.11            NaN  \n1885  White (Not of Hispanic Origin)      Active       80999.98            NaN  \n1993  White (Not of Hispanic Origin)      Active       51375.17          100.0  \n2132       Asian or Pacific Islander  Terminated       45760.00            NaN  \n2325  White (Not of Hispanic Origin)  Terminated       46941.23            NaN  \n3126  White (Not of Hispanic Origin)      Active       20800.00          100.0  \n3398  White (Not of Hispanic Origin)      Active      235750.11            NaN  \n3950       Asian or Pacific Islander      Active       63553.15            NaN  \n4014                           Black      Active       95000.46            NaN  \n4035  White (Not of Hispanic Origin)      Active       72500.06            NaN  \n4104  White (Not of Hispanic Origin)      Active      160000.05          125.0  \n5657  White (Not of Hispanic Origin)      Active       82200.14          125.0  \n5860                           Black  Terminated       85940.19            NaN  \n5969  White (Not of Hispanic Origin)      Active       42750.03            NaN  \n6022                           Black      Active       53250.08            NaN  \n6040  White (Not of Hispanic Origin)      Active       50000.08          100.0  ",
                        "text/html": "<div>\n<style scoped>\n    .dataframe tbody tr th:only-of-type {\n        vertical-align: middle;\n    }\n\n    .dataframe tbody tr th {\n        vertical-align: top;\n    }\n\n    .dataframe thead th {\n        text-align: right;\n    }\n</style>\n<table border=\"1\" class=\"dataframe\">\n  <thead>\n    <tr style=\"text-align: right;\">\n      <th></th>\n      <th>FIRST_NAME</th>\n      <th>DEPARTMENT</th>\n      <th>DATE_STARTED</th>\n      <th>SEX</th>\n      <th>ETHNICITY</th>\n      <th>PAY_STATUS</th>\n      <th>ANNUAL_SALARY</th>\n      <th>INCENTIVE_PAY</th>\n    </tr>\n  </thead>\n  <tbody>\n    <tr>\n      <th>132</th>\n      <td>GEOFFREY L</td>\n      <td>County Manager</td>\n      <td>10/21/2019</td>\n      <td>Male</td>\n      <td>White (Not of Hispanic Origin)</td>\n      <td>Active</td>\n      <td>80999.98</td>\n      <td>125.0</td>\n    </tr>\n    <tr>\n      <th>1303</th>\n      <td>SONYA L</td>\n      <td>County Manager</td>\n      <td>8/29/2005</td>\n      <td>Female</td>\n      <td>White (Not of Hispanic Origin)</td>\n      <td>Active</td>\n      <td>72750.08</td>\n      <td>125.0</td>\n    </tr>\n    <tr>\n      <th>1305</th>\n      <td>PATRICIA R</td>\n      <td>County Manager</td>\n      <td>1/28/2019</td>\n      <td>Female</td>\n      <td>Black</td>\n      <td>Active</td>\n      <td>39500.03</td>\n      <td>NaN</td>\n    </tr>\n    <tr>\n      <th>1401</th>\n      <td>AMIE M</td>\n      <td>County Manager</td>\n      <td>11/28/2011</td>\n      <td>Female</td>\n      <td>White (Not of Hispanic Origin)</td>\n      <td>Active</td>\n      <td>128500.11</td>\n      <td>125.0</td>\n    </tr>\n    <tr>\n      <th>1680</th>\n      <td>MARY JOANNE</td>\n      <td>County Manager</td>\n      <td>5/4/2015</td>\n      <td>Female</td>\n      <td>White (Not of Hispanic Origin)</td>\n      <td>Active</td>\n      <td>128500.11</td>\n      <td>NaN</td>\n    </tr>\n    <tr>\n      <th>1885</th>\n      <td>LUCY E</td>\n      <td>County Manager</td>\n      <td>9/8/2020</td>\n      <td>Female</td>\n      <td>White (Not of Hispanic Origin)</td>\n      <td>Active</td>\n      <td>80999.98</td>\n      <td>NaN</td>\n    </tr>\n    <tr>\n      <th>1993</th>\n      <td>ALEXANDRIA L</td>\n      <td>County Manager</td>\n      <td>12/6/2021</td>\n      <td>Female</td>\n      <td>White (Not of Hispanic Origin)</td>\n      <td>Active</td>\n      <td>51375.17</td>\n      <td>100.0</td>\n    </tr>\n    <tr>\n      <th>2132</th>\n      <td>KATIAN</td>\n      <td>County Manager</td>\n      <td>10/4/2021</td>\n      <td>Female</td>\n      <td>Asian or Pacific Islander</td>\n      <td>Terminated</td>\n      <td>45760.00</td>\n      <td>NaN</td>\n    </tr>\n    <tr>\n      <th>2325</th>\n      <td>JOAN M</td>\n      <td>County Manager</td>\n      <td>10/23/1989</td>\n      <td>Female</td>\n      <td>White (Not of Hispanic Origin)</td>\n      <td>Terminated</td>\n      <td>46941.23</td>\n      <td>NaN</td>\n    </tr>\n    <tr>\n      <th>3126</th>\n      <td>MARY JANE</td>\n      <td>County Manager</td>\n      <td>10/3/2022</td>\n      <td>Female</td>\n      <td>White (Not of Hispanic Origin)</td>\n      <td>Active</td>\n      <td>20800.00</td>\n      <td>100.0</td>\n    </tr>\n    <tr>\n      <th>3398</th>\n      <td>WILLIAM D</td>\n      <td>County Manager</td>\n      <td>8/1/2012</td>\n      <td>Male</td>\n      <td>White (Not of Hispanic Origin)</td>\n      <td>Active</td>\n      <td>235750.11</td>\n      <td>NaN</td>\n    </tr>\n    <tr>\n      <th>3950</th>\n      <td>MENGMENG</td>\n      <td>County Manager</td>\n      <td>8/20/2018</td>\n      <td>Female</td>\n      <td>Asian or Pacific Islander</td>\n      <td>Active</td>\n      <td>63553.15</td>\n      <td>NaN</td>\n    </tr>\n    <tr>\n      <th>4014</th>\n      <td>DARRELL</td>\n      <td>County Manager</td>\n      <td>9/4/2018</td>\n      <td>Male</td>\n      <td>Black</td>\n      <td>Active</td>\n      <td>95000.46</td>\n      <td>NaN</td>\n    </tr>\n    <tr>\n      <th>4035</th>\n      <td>HEATHER L</td>\n      <td>County Manager</td>\n      <td>2/12/2007</td>\n      <td>Female</td>\n      <td>White (Not of Hispanic Origin)</td>\n      <td>Active</td>\n      <td>72500.06</td>\n      <td>NaN</td>\n    </tr>\n    <tr>\n      <th>4104</th>\n      <td>STEPHEN E</td>\n      <td>County Manager</td>\n      <td>9/9/1985</td>\n      <td>Male</td>\n      <td>White (Not of Hispanic Origin)</td>\n      <td>Active</td>\n      <td>160000.05</td>\n      <td>125.0</td>\n    </tr>\n    <tr>\n      <th>5657</th>\n      <td>CHRISTOPHER D</td>\n      <td>County Manager</td>\n      <td>4/5/2021</td>\n      <td>Male</td>\n      <td>White (Not of Hispanic Origin)</td>\n      <td>Active</td>\n      <td>82200.14</td>\n      <td>125.0</td>\n    </tr>\n    <tr>\n      <th>5860</th>\n      <td>MELISSA</td>\n      <td>County Manager</td>\n      <td>8/4/2019</td>\n      <td>Female</td>\n      <td>Black</td>\n      <td>Terminated</td>\n      <td>85940.19</td>\n      <td>NaN</td>\n    </tr>\n    <tr>\n      <th>5969</th>\n      <td>MARIE C.</td>\n      <td>County Manager</td>\n      <td>10/14/2008</td>\n      <td>Female</td>\n      <td>White (Not of Hispanic Origin)</td>\n      <td>Active</td>\n      <td>42750.03</td>\n      <td>NaN</td>\n    </tr>\n    <tr>\n      <th>6022</th>\n      <td>THERESA</td>\n      <td>County Manager</td>\n      <td>11/1/1982</td>\n      <td>Female</td>\n      <td>Black</td>\n      <td>Active</td>\n      <td>53250.08</td>\n      <td>NaN</td>\n    </tr>\n    <tr>\n      <th>6040</th>\n      <td>JUSTIN</td>\n      <td>County Manager</td>\n      <td>3/14/2022</td>\n      <td>Male</td>\n      <td>White (Not of Hispanic Origin)</td>\n      <td>Active</td>\n      <td>50000.08</td>\n      <td>100.0</td>\n    </tr>\n  </tbody>\n</table>\n</div>"
                    },
                    "metadata": {},
                    "execution_count": 1368,
                    "output_type": "execute_result"
                }
            ],
            "execution_count": 1368
        },
        {
            "cell_type": "markdown",
            "source": [
                "Use list comprehension to determine the difference between <span style=\"color: rgb(255, 255, 255); font-family: Menlo, Monaco, &quot;Courier New&quot;, monospace; font-size: 12px; white-space: pre;\">cie_annual_salaries</span> and the maximum annual salary"
            ],
            "metadata": {
                "language": "python",
                "azdata_cell_guid": "bee92681-be89-406b-993b-1024fdc649ff"
            },
            "attachments": {}
        },
        {
            "cell_type": "code",
            "source": [
                "sal_diff_high_avg = [sal - avg_annual_salary for sal in annual_salaries if sal > avg_annual_salary]\n",
                "sal_diff_high_avg"
            ],
            "metadata": {
                "language": "python",
                "azdata_cell_guid": "5254a43d-1323-4e53-a2c7-d5e547b553fd"
            },
            "outputs": [
                {
                    "data": {
                        "text/plain": "[14054.933995222927,\n 15977.473995222936,\n 72552.64399522293,\n 34052.473995222936,\n 14052.433995222927]"
                    },
                    "metadata": {},
                    "execution_count": 1369,
                    "output_type": "execute_result"
                }
            ],
            "execution_count": 1369
        },
        {
            "cell_type": "markdown",
            "source": [
                "Find the average of the difference between max annual salary and the above average annual salaries of the CID employees"
            ],
            "metadata": {
                "language": "python",
                "azdata_cell_guid": "61b5ce9b-0e4b-402f-8dc0-533b160013d2"
            },
            "attachments": {}
        },
        {
            "cell_type": "code",
            "source": [
                "sum(sal_diff_high_avg) / len(sal_diff_high_avg)"
            ],
            "metadata": {
                "language": "python",
                "azdata_cell_guid": "fdba69d5-3169-4fce-84ec-ff7784f1f79d"
            },
            "outputs": [
                {
                    "data": {
                        "text/plain": "30137.991995222932"
                    },
                    "metadata": {},
                    "execution_count": 1370,
                    "output_type": "execute_result"
                }
            ],
            "execution_count": 1370
        },
        {
            "cell_type": "markdown",
            "source": [
                "## 6 - Hist"
            ],
            "metadata": {
                "language": "python",
                "azdata_cell_guid": "99e10b8f-d31e-443a-aea4-d59f14ea8c2c"
            },
            "attachments": {}
        },
        {
            "cell_type": "markdown",
            "source": [
                "Import matplotlib"
            ],
            "metadata": {
                "language": "python",
                "azdata_cell_guid": "06b10a31-d98a-4505-8c9b-4f4b60602a2a"
            },
            "attachments": {}
        },
        {
            "cell_type": "code",
            "source": [
                "import matplotlib.pyplot as plt"
            ],
            "metadata": {
                "language": "python",
                "azdata_cell_guid": "9578c408-0abc-4b9f-aed9-622f437ae1dc"
            },
            "outputs": [],
            "execution_count": 1371
        },
        {
            "cell_type": "markdown",
            "source": [
                "Create a histogram showing the annual salaries of the county employees disagggreagated by sex"
            ],
            "metadata": {
                "language": "python",
                "azdata_cell_guid": "74349c21-b3a7-49f2-bed2-b33b23d6d50d"
            },
            "attachments": {}
        },
        {
            "cell_type": "code",
            "source": [
                "male_salaries = salaries_df.loc[salaries_df['SEX'] == 'M', 'ANNUAL_SALARY']\n",
                "female_salaries = salaries_df.loc[salaries_df['SEX'] == 'F', 'ANNUAL_SALARY']\n",
                "plt.hist([male_salaries, female_salaries], label=['Male', 'Female'], alpha=0.5)\n",
                "\n",
                "# add a legend and show the plot\n",
                "plt.legend()\n",
                "plt.show()"
            ],
            "metadata": {
                "language": "python",
                "azdata_cell_guid": "73fa0dbc-d4a8-4544-91ce-b95144ebee4f",
                "tags": []
            },
            "outputs": [
{
    "data": {
        "text/plain": "<Figure size 640x480 with 1 Axes>",
        "image/png": "[encoded data removed]"
    },
    "metadata": {},
    "output_type": "display_data"
}
],
            "execution_count": 1372
        }
    ]
}